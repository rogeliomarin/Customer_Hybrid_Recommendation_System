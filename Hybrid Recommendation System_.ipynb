{
 "cells": [
  {
   "cell_type": "markdown",
   "id": "3796bb0d",
   "metadata": {},
   "source": [
    "# Case Study\n",
    "\n",
    "Give some Hybrid Recommendations per user, having in consideration Product Names, Brands, Prices and Raing"
   ]
  },
  {
   "cell_type": "code",
   "execution_count": 46,
   "id": "ebbc5e0b",
   "metadata": {
    "scrolled": false
   },
   "outputs": [],
   "source": [
    "import pandas as pd\n",
    "from surprise import Dataset, Reader, SVD\n",
    "from sklearn.feature_extraction.text import TfidfVectorizer\n",
    "from sklearn.metrics.pairwise import linear_kernel"
   ]
  },
  {
   "cell_type": "code",
   "execution_count": 47,
   "id": "85ea1b81",
   "metadata": {},
   "outputs": [
    {
     "name": "stdout",
     "output_type": "stream",
     "text": [
      "   User ID  Product ID Product Name   Brand         Category  Price    Rating  \\\n",
      "0       19           1        Dress  Adidas    Men's Fashion     40  1.043159   \n",
      "1       97           2        Shoes     H&M  Women's Fashion     82  4.026416   \n",
      "2       25           3        Dress  Adidas  Women's Fashion     44  3.337938   \n",
      "3       57           4        Shoes    Zara    Men's Fashion     23  1.049523   \n",
      "4       79           5      T-shirt  Adidas    Men's Fashion     79  4.302773   \n",
      "\n",
      "    Color Size  \n",
      "0   Black   XL  \n",
      "1   Black    L  \n",
      "2  Yellow   XL  \n",
      "3   White    S  \n",
      "4   Black    M  \n"
     ]
    }
   ],
   "source": [
    "# Read the Data\n",
    "\n",
    "data = pd.read_csv(\"fashion_products.csv\")\n",
    "print(data.head())"
   ]
  },
  {
   "cell_type": "code",
   "execution_count": 48,
   "id": "ea83ac07",
   "metadata": {},
   "outputs": [
    {
     "data": {
      "text/html": [
       "<div>\n",
       "<style scoped>\n",
       "    .dataframe tbody tr th:only-of-type {\n",
       "        vertical-align: middle;\n",
       "    }\n",
       "\n",
       "    .dataframe tbody tr th {\n",
       "        vertical-align: top;\n",
       "    }\n",
       "\n",
       "    .dataframe thead th {\n",
       "        text-align: right;\n",
       "    }\n",
       "</style>\n",
       "<table border=\"1\" class=\"dataframe\">\n",
       "  <thead>\n",
       "    <tr style=\"text-align: right;\">\n",
       "      <th></th>\n",
       "      <th>User ID</th>\n",
       "      <th>Product ID</th>\n",
       "      <th>Price</th>\n",
       "      <th>Rating</th>\n",
       "    </tr>\n",
       "  </thead>\n",
       "  <tbody>\n",
       "    <tr>\n",
       "      <th>count</th>\n",
       "      <td>1000.00000</td>\n",
       "      <td>1000.000000</td>\n",
       "      <td>1000.000000</td>\n",
       "      <td>1000.000000</td>\n",
       "    </tr>\n",
       "    <tr>\n",
       "      <th>mean</th>\n",
       "      <td>50.41900</td>\n",
       "      <td>500.500000</td>\n",
       "      <td>55.785000</td>\n",
       "      <td>2.993135</td>\n",
       "    </tr>\n",
       "    <tr>\n",
       "      <th>std</th>\n",
       "      <td>28.78131</td>\n",
       "      <td>288.819436</td>\n",
       "      <td>26.291748</td>\n",
       "      <td>1.153185</td>\n",
       "    </tr>\n",
       "    <tr>\n",
       "      <th>min</th>\n",
       "      <td>1.00000</td>\n",
       "      <td>1.000000</td>\n",
       "      <td>10.000000</td>\n",
       "      <td>1.000967</td>\n",
       "    </tr>\n",
       "    <tr>\n",
       "      <th>25%</th>\n",
       "      <td>26.00000</td>\n",
       "      <td>250.750000</td>\n",
       "      <td>33.000000</td>\n",
       "      <td>1.992786</td>\n",
       "    </tr>\n",
       "    <tr>\n",
       "      <th>50%</th>\n",
       "      <td>50.00000</td>\n",
       "      <td>500.500000</td>\n",
       "      <td>57.000000</td>\n",
       "      <td>2.984003</td>\n",
       "    </tr>\n",
       "    <tr>\n",
       "      <th>75%</th>\n",
       "      <td>75.00000</td>\n",
       "      <td>750.250000</td>\n",
       "      <td>78.250000</td>\n",
       "      <td>3.985084</td>\n",
       "    </tr>\n",
       "    <tr>\n",
       "      <th>max</th>\n",
       "      <td>100.00000</td>\n",
       "      <td>1000.000000</td>\n",
       "      <td>100.000000</td>\n",
       "      <td>4.987964</td>\n",
       "    </tr>\n",
       "  </tbody>\n",
       "</table>\n",
       "</div>"
      ],
      "text/plain": [
       "          User ID   Product ID        Price       Rating\n",
       "count  1000.00000  1000.000000  1000.000000  1000.000000\n",
       "mean     50.41900   500.500000    55.785000     2.993135\n",
       "std      28.78131   288.819436    26.291748     1.153185\n",
       "min       1.00000     1.000000    10.000000     1.000967\n",
       "25%      26.00000   250.750000    33.000000     1.992786\n",
       "50%      50.00000   500.500000    57.000000     2.984003\n",
       "75%      75.00000   750.250000    78.250000     3.985084\n",
       "max     100.00000  1000.000000   100.000000     4.987964"
      ]
     },
     "execution_count": 48,
     "metadata": {},
     "output_type": "execute_result"
    }
   ],
   "source": [
    "# Insights about it\n",
    "# 1000 rows\n",
    "\n",
    "data.describe()"
   ]
  },
  {
   "cell_type": "code",
   "execution_count": 49,
   "id": "83dbdec3",
   "metadata": {},
   "outputs": [
    {
     "name": "stdout",
     "output_type": "stream",
     "text": [
      "User ID         0\n",
      "Product ID      0\n",
      "Product Name    0\n",
      "Brand           0\n",
      "Category        0\n",
      "Price           0\n",
      "Rating          0\n",
      "Color           0\n",
      "Size            0\n",
      "dtype: int64\n"
     ]
    }
   ],
   "source": [
    "# Checking if there's any null values\n",
    "\n",
    "null_sum_by_column = data.isnull().sum()\n",
    "print(null_sum_by_column)"
   ]
  },
  {
   "cell_type": "markdown",
   "id": "9a0fd38b",
   "metadata": {},
   "source": [
    "## Recommendation System"
   ]
  },
  {
   "cell_type": "markdown",
   "id": "513a73cd",
   "metadata": {},
   "source": [
    "1) First Approach: Content Based Filtering\n",
    "\n",
    "Basically we filter which columns we want and then choosing which text is the most used / popular among our columns"
   ]
  },
  {
   "cell_type": "code",
   "execution_count": 50,
   "id": "4bbb38ed",
   "metadata": {},
   "outputs": [
    {
     "name": "stderr",
     "output_type": "stream",
     "text": [
      "C:\\Users\\rou_27\\AppData\\Local\\Temp\\ipykernel_24756\\4226344095.py:7: SettingWithCopyWarning: \n",
      "A value is trying to be set on a copy of a slice from a DataFrame.\n",
      "Try using .loc[row_indexer,col_indexer] = value instead\n",
      "\n",
      "See the caveats in the documentation: https://pandas.pydata.org/pandas-docs/stable/user_guide/indexing.html#returning-a-view-versus-a-copy\n",
      "  content_df['Content'] = content_df.apply(lambda row: ' '.join(row.dropna().astype(str)), axis=1)\n"
     ]
    }
   ],
   "source": [
    "# 1) checking the columns we want to use\n",
    "# 2) Use TF-IDF vectorizer to convert content into a matrix of TF-IDF features  (Term Frequency-Inverse Document Frequency)\n",
    "\n",
    "#1\n",
    "content_df = data[['Product ID', 'Product Name', 'Brand', \n",
    "                   'Category', 'Color', 'Size']]\n",
    "content_df['Content'] = content_df.apply(lambda row: ' '.join(row.dropna().astype(str)), axis=1)\n",
    "\n",
    "#2\n",
    "tfidf_vectorizer = TfidfVectorizer()\n",
    "content_matrix = tfidf_vectorizer.fit_transform(content_df['Content'])\n",
    "\n",
    "content_similarity = linear_kernel(content_matrix, content_matrix)\n",
    "\n",
    "reader = Reader(rating_scale=(1, 5))\n",
    "data = Dataset.load_from_df(data[['User ID', \n",
    "                                  'Product ID', \n",
    "                                  'Rating']], reader)\n",
    "\n",
    "def get_content_based_recommendations(product_id, top_n):\n",
    "    # Obtener el índice del producto en el dataframe\n",
    "    index = content_df[content_df['Product ID'] == product_id].index[0]\n",
    "    \n",
    "    # Obtener la similitud de contenido para el producto específico\n",
    "    similarity_scores = content_similarity[index]\n",
    "    \n",
    "    # Obtener los índices de productos similares ordenados por similitud (excluyendo el producto actual)\n",
    "    similar_indices = similarity_scores.argsort()[::-1][1:top_n + 1]\n",
    "    \n",
    "    # Obtener los IDs de los productos similares recomendados\n",
    "    recommendations = content_df.loc[similar_indices, 'Product ID'].values\n",
    "    \n",
    "    return recommendations"
   ]
  },
  {
   "cell_type": "markdown",
   "id": "f7c08cb1",
   "metadata": {},
   "source": [
    "2) Second Approach: Collaborative Filtering"
   ]
  },
  {
   "cell_type": "code",
   "execution_count": 51,
   "id": "67ea156b",
   "metadata": {},
   "outputs": [],
   "source": [
    "algo = SVD()\n",
    "trainset = data.build_full_trainset()\n",
    "algo.fit(trainset)\n",
    "\n",
    "\n",
    "def get_collaborative_filtering_recommendations(user_id, top_n):\n",
    "    testset = trainset.build_anti_testset()\n",
    "    testset = filter(lambda x: x[0] == user_id, testset)\n",
    "    predictions = algo.test(testset)\n",
    "\n",
    "    # Ordenar las predicciones por estimación de calificación y precio\n",
    "    predictions.sort(key=lambda x: (x.est, x.iid), reverse=True)\n",
    "\n",
    "    # Obtener los IDs de los productos recomendados\n",
    "    recommendations = [prediction.iid for prediction in predictions[:top_n]]\n",
    "    \n",
    "    return recommendations"
   ]
  },
  {
   "cell_type": "markdown",
   "id": "99fed415",
   "metadata": {},
   "source": [
    "3) The Hybrid Approach"
   ]
  },
  {
   "cell_type": "code",
   "execution_count": 52,
   "id": "1374c53b",
   "metadata": {},
   "outputs": [],
   "source": [
    "def get_hybrid_recommendations(user_id, product_id, top_n):\n",
    "    # Obtener recomendaciones basadas en contenido para el producto específico\n",
    "    content_based_recommendations = get_content_based_recommendations(product_id, top_n)\n",
    "    \n",
    "    # Obtener recomendaciones basadas en filtrado colaborativo para el usuario específico\n",
    "    collaborative_filtering_recommendations = get_collaborative_filtering_recommendations(user_id, top_n)\n",
    "    \n",
    "    # Combinar las recomendaciones de ambos enfoques en una lista única\n",
    "    hybrid_recommendations = list(set(content_based_recommendations + collaborative_filtering_recommendations))\n",
    "    \n",
    "    # Retornar las primeras top_n recomendaciones combinadas\n",
    "    return hybrid_recommendations[:top_n]\n"
   ]
  },
  {
   "cell_type": "code",
   "execution_count": null,
   "id": "2a5aeceb",
   "metadata": {},
   "outputs": [],
   "source": [
    "#The Hybrid method uses the last two methods, it makes more personalized recommendations."
   ]
  },
  {
   "cell_type": "code",
   "execution_count": 53,
   "id": "7aac1cd3",
   "metadata": {},
   "outputs": [
    {
     "name": "stdout",
     "output_type": "stream",
     "text": [
      "Hybrid Recommendations:\n",
      "1. Product ID: 652\n",
      "2. Product ID: 701\n",
      "3. Product ID: 30\n"
     ]
    }
   ],
   "source": [
    "user_id = 25\n",
    "product_id = 3\n",
    "top_n = 3\n",
    "\n",
    "recommendations = get_hybrid_recommendations(user_id, product_id, top_n)\n",
    "\n",
    "print(\"Hybrid Recommendations:\")\n",
    "for i, recommendation in enumerate(recommendations):\n",
    "    print(f\"{i + 1}. Product ID: {recommendation}\")\n"
   ]
  },
  {
   "cell_type": "code",
   "execution_count": 45,
   "id": "a15e5b7d",
   "metadata": {
    "scrolled": true
   },
   "outputs": [
    {
     "name": "stdout",
     "output_type": "stream",
     "text": [
      "Hybrid Recommendations for User 3 based on Product 11:\n",
      "1. Product ID: 944\n",
      "2. Product ID: 1746\n",
      "3. Product ID: 149\n",
      "4. Product ID: 1014\n",
      "5. Product ID: 1591\n"
     ]
    }
   ],
   "source": [
    "user_id = 3\n",
    "product_id = 11\n",
    "top_n = 5\n",
    "recommendations = get_hybrid_recommendations(user_id, product_id, top_n)\n",
    "\n",
    "print(f\"Hybrid Recommendations for User {user_id} based on Product {product_id}:\")\n",
    "for i, recommendation in enumerate(recommendations):\n",
    "    print(f\"{i + 1}. Product ID: {recommendation}\")"
   ]
  }
 ],
 "metadata": {
  "kernelspec": {
   "display_name": "Python 3 (ipykernel)",
   "language": "python",
   "name": "python3"
  },
  "language_info": {
   "codemirror_mode": {
    "name": "ipython",
    "version": 3
   },
   "file_extension": ".py",
   "mimetype": "text/x-python",
   "name": "python",
   "nbconvert_exporter": "python",
   "pygments_lexer": "ipython3",
   "version": "3.11.5"
  }
 },
 "nbformat": 4,
 "nbformat_minor": 5
}
